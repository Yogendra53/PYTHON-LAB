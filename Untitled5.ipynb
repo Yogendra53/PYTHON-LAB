{
  "nbformat": 4,
  "nbformat_minor": 0,
  "metadata": {
    "colab": {
      "name": "Untitled5.ipynb",
      "provenance": []
    },
    "kernelspec": {
      "name": "python3",
      "display_name": "Python 3"
    },
    "language_info": {
      "name": "python"
    }
  },
  "cells": [
    {
      "cell_type": "code",
      "execution_count": null,
      "metadata": {
        "id": "NT9vuU6s1s4A"
      },
      "outputs": [],
      "source": [
        ""
      ]
    },
    {
      "cell_type": "markdown",
      "source": [
        "write a program to demonstrate working with tuples in python."
      ],
      "metadata": {
        "id": "c7AobnqO16Ct"
      }
    },
    {
      "cell_type": "code",
      "source": [
        "#Tuples are written with round brackets.\n",
        "thistuple = (\"samsung\", \"one plus\", \"apple\", \"oppo\")\n",
        "print(thistuple)\n",
        "\n",
        "#Tuples allow duplicate values:\n",
        "thistuple = (\"samsung\", \"one plus\", \"samsung\", \"apple\",\"oppo\", \"vivo\")\n",
        "print(thistuple)\n",
        "\n",
        "#Tuple Length\n",
        "thistuple = tuple((\"samsung\", \"one plus\", \"apple\", \"vivo\"))\n",
        "print(len(thistuple))\n",
        "\n",
        "#Create Tuple With One Item\n",
        "thistuple = (\"apple\",)\n",
        "print(type(thistuple))\n",
        "\n",
        "#NOT a tuple\n",
        "thistuple = (\"one plus\")\n",
        "print(type(thistuple))\n",
        "\n",
        "#Tuple Items - Data Types\n",
        "\n",
        "tuple1 = (\"one plus\", \"samsung\", \"apple\", \"vivo\")\n",
        "tuple2 = (3, 5, 5, 2, 4)\n",
        "tuple3 = (True, False, False)\n",
        "\n",
        "\n",
        "print(tuple1)\n",
        "print(tuple2)\n",
        "print(tuple3)\n",
        "\n",
        "#A tuple with strings, integers and boolean values:\n",
        "tuple1 = (\"jpm\", 20, True, 40, \"male\")\n",
        "\n",
        "print(tuple1)\n",
        "\n",
        " #tuples are defined as objects with the data type 'tuple'\n",
        "mytuple = (\"one plus\", \"vivo\", \"oppo\",)\n",
        "\n",
        "print(type(mytuple))"
      ],
      "metadata": {
        "colab": {
          "base_uri": "https://localhost:8080/"
        },
        "id": "60RSM5z32LY9",
        "outputId": "a6bdf58e-1d5b-40a8-bab3-c0f7bc93508d"
      },
      "execution_count": 1,
      "outputs": [
        {
          "output_type": "stream",
          "name": "stdout",
          "text": [
            "('samsung', 'one plus', 'apple', 'oppo')\n",
            "('samsung', 'one plus', 'samsung', 'apple', 'oppo', 'vivo')\n",
            "4\n",
            "<class 'tuple'>\n",
            "<class 'str'>\n",
            "('one plus', 'samsung', 'apple', 'vivo')\n",
            "(3, 5, 5, 2, 4)\n",
            "(True, False, False)\n",
            "('jpm', 20, True, 40, 'male')\n",
            "<class 'tuple'>\n"
          ]
        }
      ]
    }
  ]
}