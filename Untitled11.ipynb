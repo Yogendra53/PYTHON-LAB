{
  "nbformat": 4,
  "nbformat_minor": 0,
  "metadata": {
    "colab": {
      "name": "Untitled11.ipynb",
      "provenance": []
    },
    "kernelspec": {
      "name": "python3",
      "display_name": "Python 3"
    },
    "language_info": {
      "name": "python"
    }
  },
  "cells": [
    {
      "cell_type": "code",
      "execution_count": null,
      "metadata": {
        "id": "KOFxqFaDduBw"
      },
      "outputs": [],
      "source": [
        ""
      ]
    },
    {
      "cell_type": "markdown",
      "source": [
        ""
      ],
      "metadata": {
        "id": "VC0UkAwzdvjG"
      }
    },
    {
      "cell_type": "code",
      "source": [
        "import numpy as np\n",
        "nums =  np.random.rand(10)\n",
        "print(\"Original array:\")\n",
        "print(nums)\n",
        "print(\"\\nSorted first 4 elements:\")\n",
        "print(nums[np.argpartition(nums,range(4))])"
      ],
      "metadata": {
        "colab": {
          "base_uri": "https://localhost:8080/"
        },
        "id": "RrbnZ60qdwLk",
        "outputId": "92968db7-f4aa-4910-d8af-8f5bbff3dec3"
      },
      "execution_count": 2,
      "outputs": [
        {
          "output_type": "stream",
          "name": "stdout",
          "text": [
            "Original array:\n",
            "[0.37073708 0.8972603  0.96491686 0.68976747 0.54295961 0.74606607\n",
            " 0.4464411  0.64733261 0.41979598 0.75189966]\n",
            "\n",
            "Sorted first 4 elements:\n",
            "[0.37073708 0.41979598 0.4464411  0.54295961 0.68976747 0.74606607\n",
            " 0.96491686 0.64733261 0.8972603  0.75189966]\n"
          ]
        }
      ]
    }
  ]
}