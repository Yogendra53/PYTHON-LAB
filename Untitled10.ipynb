{
  "nbformat": 4,
  "nbformat_minor": 0,
  "metadata": {
    "colab": {
      "name": "Untitled10.ipynb",
      "provenance": []
    },
    "kernelspec": {
      "name": "python3",
      "display_name": "Python 3"
    },
    "language_info": {
      "name": "python"
    }
  },
  "cells": [
    {
      "cell_type": "markdown",
      "source": [
        "write a python script that prints prime number less than 20."
      ],
      "metadata": {
        "id": "LrXVGD2_cWce"
      }
    },
    {
      "cell_type": "code",
      "source": [
        "print(\"Prime numbers between 1 and 20 are:\")\n",
        "ulmt=20;\n",
        "for num in range(ulmt):\n",
        "   # prime numbers are greater than 1\n",
        "   if num > 1:\n",
        "       for i in range(2,num):\n",
        "           if (num % i) == 0:\n",
        "               break\n",
        "       else:\n",
        "           print(num)"
      ],
      "metadata": {
        "colab": {
          "base_uri": "https://localhost:8080/"
        },
        "id": "SXWJuycgcsNn",
        "outputId": "85889859-a478-4c9d-bcd5-d1f9b3839ff2"
      },
      "execution_count": 4,
      "outputs": [
        {
          "output_type": "stream",
          "name": "stdout",
          "text": [
            "Prime numbers between 1 and 20 are:\n",
            "2\n",
            "3\n",
            "5\n",
            "7\n",
            "11\n",
            "13\n",
            "17\n",
            "19\n"
          ]
        }
      ]
    }
  ]
}