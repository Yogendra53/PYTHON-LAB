{
  "nbformat": 4,
  "nbformat_minor": 0,
  "metadata": {
    "colab": {
      "name": "Untitled6.ipynb",
      "provenance": []
    },
    "kernelspec": {
      "name": "python3",
      "display_name": "Python 3"
    },
    "language_info": {
      "name": "python"
    }
  },
  "cells": [
    {
      "cell_type": "markdown",
      "source": [
        "write a program to create,concatenate and print a sting and accesing sub string from a given string."
      ],
      "metadata": {
        "id": "nrK2j1lQ6Ve5"
      }
    },
    {
      "cell_type": "markdown",
      "source": [
        ""
      ],
      "metadata": {
        "id": "jTaJ0dWT5hrj"
      }
    },
    {
      "cell_type": "code",
      "source": [
        "s1=input(\"Enter first String : \") \n",
        "s2=input(\"Enter second String : \")\n",
        "print(\"First string is : \",s1)\n",
        "print(\"Second string is : \",s2)\n",
        "print(\"concatenations of two strings :\",s1+s2)\n",
        "print(\"Substring of given string :\",s1[1:3])"
      ],
      "metadata": {
        "id": "KosEk3fr5jIC"
      },
      "execution_count": null,
      "outputs": []
    }
  ]
}