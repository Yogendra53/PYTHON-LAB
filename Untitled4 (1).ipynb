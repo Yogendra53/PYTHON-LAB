{
  "nbformat": 4,
  "nbformat_minor": 0,
  "metadata": {
    "colab": {
      "name": "Untitled4.ipynb",
      "provenance": []
    },
    "kernelspec": {
      "name": "python3",
      "display_name": "Python 3"
    },
    "language_info": {
      "name": "python"
    }
  },
  "cells": [
    {
      "cell_type": "code",
      "execution_count": null,
      "metadata": {
        "id": "3ntBM7BRu4fW"
      },
      "outputs": [],
      "source": [
        ""
      ]
    },
    {
      "cell_type": "markdown",
      "source": [
        "write a program to create,append,and remove list in python"
      ],
      "metadata": {
        "id": "0PBvaARTvHqD"
      }
    },
    {
      "cell_type": "code",
      "source": [
        "#Using the append() method to append\n",
        "thislist = [\"swift\", \"tata\", \"honda\"]\n",
        "\n",
        "thislist.append(\"swift\")\n",
        "\n",
        "print(thislist)\n",
        "\n",
        "#The remove() method removes the specified item.\n",
        "thislist = [\"tata\", \"mahindra\", \"hundai\", \"tesla\"]\n",
        "thislist.remove(\"mahindra\")\n",
        "print(thislist)\n",
        "\n",
        "#Remove Specified Index\n",
        "thislist = [\"tata\", \"mahindra\", \"hundai\", \"tesla\"]\n",
        "thislist.pop(2)\n",
        "print(thislist)\n",
        "\n",
        "#the pop() method removes the last item\n",
        "thislist = [\"tata\", \"mahindra\", \"hundai\"]\n",
        "thislist.pop()\n",
        "print(thislist)\n",
        "\n",
        "#del keyword also removes the specified index\n",
        "thislist = [\"tesla\", \"tata\", \"honda\"]\n",
        "del thislist[0]\n",
        "print(thislist)\n",
        "\n",
        "\n",
        "#Clear the list content:\n",
        "thislist = [\"tata\", \"mahindra\", \"honda\", \"hundai\"]\n",
        "thislist.clear()\n",
        "print(thislist)"
      ],
      "metadata": {
        "colab": {
          "base_uri": "https://localhost:8080/"
        },
        "id": "-lsHvvrTvXX7",
        "outputId": "da733ea3-2169-47ec-f84d-27eaf45ea461"
      },
      "execution_count": 3,
      "outputs": [
        {
          "output_type": "stream",
          "name": "stdout",
          "text": [
            "['swift', 'tata', 'honda', 'swift']\n",
            "['tata', 'hundai', 'tesla']\n",
            "['tata', 'mahindra', 'tesla']\n",
            "['tata', 'mahindra']\n",
            "['tata', 'honda']\n",
            "[]\n"
          ]
        }
      ]
    }
  ]
}