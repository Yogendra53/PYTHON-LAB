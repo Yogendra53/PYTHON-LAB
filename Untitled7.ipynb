{
  "nbformat": 4,
  "nbformat_minor": 0,
  "metadata": {
    "colab": {
      "name": "Untitled7.ipynb",
      "provenance": []
    },
    "kernelspec": {
      "name": "python3",
      "display_name": "Python 3"
    },
    "language_info": {
      "name": "python"
    }
  },
  "cells": [
    {
      "cell_type": "markdown",
      "source": [
        "Write a program to demonstrate working with dictionries in python"
      ],
      "metadata": {
        "id": "mwFklYViUMj4"
      }
    },
    {
      "cell_type": "code",
      "source": [
        "dict1 = {'StdNo':'230','StuName': 'harry', 'StuAge': 25, 'StuCity': 'mumbai'}\n",
        "print(\"\\n Dictionary is :\",dict1)\n",
        "#Accessing specific values \n",
        "print(\"\\n Student Name is :\",dict1['StuName'])\n",
        "print(\"\\n Student City is :\",dict1['StuCity'])\n",
        "#Display all Keys\n",
        "print(\"\\n All dict1Keys in Dictionary \")\n",
        "for x in dict1:\n",
        "    print(x)\n",
        "#Display all values\n",
        "print(\"\\n All Values in Dictionary \")\n",
        "for x in dict1:\n",
        "    print(dict1[x])\n",
        "#Adding items\n",
        "dict1[\"Phno\"]=85457862\n",
        "#Updated dictoinary\n",
        "print(\"\\n Uadated Dictionary is :\",dict1)\n",
        "#Change values\n",
        "dict1[\"StuName\"]=\"john\"\n",
        "#Updated dictoinary\n",
        "print(\"\\n Uadated Dictionary is :\",dict1)\n",
        "#Removing Items\n",
        "dict1.pop(\"StuAge\");\n",
        "#Updated dictoinary\n",
        "print(\"\\n Uadated Dictionary is :\",dict1)\n",
        "#Length of Dictionary\n",
        "print(\"Length of Dictionary is :\",len(dict1))\n",
        "#Copy a Dictionary\n",
        "dict2=dict1.copy()\n",
        "#New dictoinary\n",
        "print(\"\\n New Dictionary is :\",dict2)\n",
        "#empties the dictionary\n",
        "dict1.clear()\n",
        "print(\"\\n Uadated Dictionary is :\",dict1)"
      ],
      "metadata": {
        "colab": {
          "base_uri": "https://localhost:8080/"
        },
        "id": "oj5YEAwUUNJg",
        "outputId": "6485711b-e314-48c0-d8a6-1e7b61d34c2f"
      },
      "execution_count": 3,
      "outputs": [
        {
          "output_type": "stream",
          "name": "stdout",
          "text": [
            "\n",
            " Dictionary is : {'StdNo': '230', 'StuName': 'harry', 'StuAge': 25, 'StuCity': 'mumbai'}\n",
            "\n",
            " Student Name is : harry\n",
            "\n",
            " Student City is : mumbai\n",
            "\n",
            " All dict1Keys in Dictionary \n",
            "StdNo\n",
            "StuName\n",
            "StuAge\n",
            "StuCity\n",
            "\n",
            " All Values in Dictionary \n",
            "230\n",
            "harry\n",
            "25\n",
            "mumbai\n",
            "\n",
            " Uadated Dictionary is : {'StdNo': '230', 'StuName': 'harry', 'StuAge': 25, 'StuCity': 'mumbai', 'Phno': 85457862}\n",
            "\n",
            " Uadated Dictionary is : {'StdNo': '230', 'StuName': 'john', 'StuAge': 25, 'StuCity': 'mumbai', 'Phno': 85457862}\n",
            "\n",
            " Uadated Dictionary is : {'StdNo': '230', 'StuName': 'john', 'StuCity': 'mumbai', 'Phno': 85457862}\n",
            "Length of Dictionary is : 4\n",
            "\n",
            " New Dictionary is : {'StdNo': '230', 'StuName': 'john', 'StuCity': 'mumbai', 'Phno': 85457862}\n",
            "\n",
            " Uadated Dictionary is : {}\n"
          ]
        }
      ]
    }
  ]
}